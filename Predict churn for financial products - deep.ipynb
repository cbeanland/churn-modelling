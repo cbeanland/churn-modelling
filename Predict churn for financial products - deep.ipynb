{
 "cells": [
  {
   "cell_type": "markdown",
   "metadata": {},
   "source": [
    "In this programme we use data on churn of customers to help us predict the likelihood that a given customer will churn. We have the following steps\n",
    "\n",
    "- Read the data \n",
    "- Initialise parameters for w and b\n",
    "- Define cost function\n",
    "- Define number of layers and nodes in the neural network\n",
    "- Define the cost function\n",
    "- Optimise using gradient descent to minimise the cost function\n",
    "- Output the parameters that optimise\n",
    "- Run against dev set to see accurancy\n",
    "- Ask for data for a customer and then calculate probablility of churn"
   ]
  },
  {
   "cell_type": "code",
   "execution_count": 26,
   "metadata": {},
   "outputs": [
    {
     "name": "stdout",
     "output_type": "stream",
     "text": [
      "Index(['RowNumber', 'CustomerId', 'Surname', 'CreditScore', 'Geography',\n",
      "       'Gender', 'Age', 'Tenure', 'Balance', 'NumOfProducts', 'HasCrCard',\n",
      "       'IsActiveMember', 'EstimatedSalary', 'Exited'],\n",
      "      dtype='object')\n",
      "\n",
      "There are 14 columns\n",
      "shape of output is (10000, 1)\n",
      "shape of input_fetures is (10000, 8)\n"
     ]
    }
   ],
   "source": [
    "import tensorflow as tf\n",
    "import numpy as np\n",
    "import pandas as pd\n",
    "\n",
    "#Import the data\n",
    "data = pd.read_csv('churn_modelling.csv')\n",
    "\n",
    "#Check number of columns\n",
    "print(data.columns)\n",
    "print()\n",
    "print(\"There are\", len(data.columns),\"columns\")\n",
    "\n",
    "#Use the final column as y = the output\n",
    "output = data[['Exited']]\n",
    "print(\"shape of output is\", np.shape(output))\n",
    "\n",
    "#Use the input columns as input features x (note we ignore customer ID and surname)\n",
    "#FOr the initial version we will also remove anything that is not a integer data (i.e. geography, gender)\n",
    "input_features = data[['CreditScore',  'Age', 'Tenure','Balance', 'NumOfProducts', 'HasCrCard',\n",
    "       'IsActiveMember', 'EstimatedSalary']]\n",
    "print(\"shape of input_fetures is\", np.shape(input_features))\n",
    "\n",
    "#Create different sets of data for train, dev and test\n",
    "y_train = output.loc[0:9000,:]\n",
    "y_dev = output.loc[9001:9500,:]\n",
    "y_test = output.loc[9501:10000,:]\n",
    "\n",
    "x_train = input_features.loc[0:9000,:]\n",
    "x_dev = input_features.loc[9001:9500,:]\n",
    "x_test = input_features.loc[9501:10000,:]"
   ]
  },
  {
   "cell_type": "markdown",
   "metadata": {},
   "source": [
    "Define key parameters that impact the accuracy of the algorithm"
   ]
  },
  {
   "cell_type": "code",
   "execution_count": 27,
   "metadata": {
    "collapsed": true
   },
   "outputs": [],
   "source": [
    "learning_rate = 0.000001\n",
    "epochs = 10\n",
    "batch_size = 100\n",
    "num_nodes = 5\n",
    "num_layers = 2"
   ]
  },
  {
   "cell_type": "markdown",
   "metadata": {},
   "source": [
    "Create placeholders for the input features and the output"
   ]
  },
  {
   "cell_type": "code",
   "execution_count": 28,
   "metadata": {
    "collapsed": true
   },
   "outputs": [],
   "source": [
    "#Create placeholders\n",
    "x = tf.placeholder(tf.float32, [None, 8], name = 'x')\n",
    "y = tf.placeholder(tf.float32, [None, 1], name = 'y')"
   ]
  },
  {
   "cell_type": "markdown",
   "metadata": {},
   "source": [
    "Initialise w and b for a single layer neural network"
   ]
  },
  {
   "cell_type": "code",
   "execution_count": 29,
   "metadata": {},
   "outputs": [],
   "source": [
    "#Initialise weights as random between 0 and 1\n",
    "w1 = tf.Variable(tf.random_uniform(shape = [8,num_nodes], minval = 0, maxval = 0.1, dtype = tf.float32, name = 'w1' ))\n",
    "w2 = tf.Variable(tf.random_uniform(shape = [num_nodes,1], minval = 0, maxval = 0.1, dtype = tf.float32, name = 'w2' ))\n",
    "\n",
    "#Initialise biases as zero\n",
    "b1 = tf.Variable(tf.zeros(shape = [num_nodes], dtype = tf.float32, name = 'b1'))\n",
    "b2 = tf.Variable(tf.zeros(shape = [1], dtype = tf.float32, name = 'b2'))\n",
    "\n"
   ]
  },
  {
   "cell_type": "markdown",
   "metadata": {},
   "source": [
    "Version will use gradient descent and linear regression with the help of the below URL\n",
    "https://blog.manash.me/implementation-of-gradient-descent-in-tensorflow-using-tf-gradients-c111d783c78bFirst\n",
    "Predict the answer y using relu and calculate the cost"
   ]
  },
  {
   "cell_type": "code",
   "execution_count": 33,
   "metadata": {},
   "outputs": [],
   "source": [
    "#Forward propagation from input to hidden layer\n",
    "a1 = tf.nn.relu(tf.matmul(x,w1) + b1)\n",
    "\n",
    "#Forward propagation from hidden layer to the output\n",
    "preds = tf.nn.relu(tf.matmul(a1,w2) + b2)\n",
    "                   \n",
    "#Calculate the cost\n",
    "cost = tf.losses.mean_squared_error(y, preds)\n",
    "\n",
    "#Define optimiser\n",
    "optimizer = tf.train.GradientDescentOptimizer(learning_rate = learning_rate).minimize(cost)\n",
    "#optimizer = tf.train.AdamOptimizer(learning_rate = learning_rate).minimize(cost)\n",
    "\n",
    "#Define a corect prediction\n",
    "correct_pred = tf.equal(y,preds)\n",
    "\n",
    "#Define accuracy\n",
    "accuracy = tf.reduce_mean(tf.cast(correct_pred, tf.float32))"
   ]
  },
  {
   "cell_type": "markdown",
   "metadata": {},
   "source": [
    "Initialise global variables and run the Tensorflow sessions"
   ]
  },
  {
   "cell_type": "code",
   "execution_count": 34,
   "metadata": {},
   "outputs": [
    {
     "name": "stdout",
     "output_type": "stream",
     "text": [
      "6.10767e+06\n",
      "Accuracy of the model on the dev set is [0.81599998]\n",
      "Accuracy of the model on the test set is [0.82765532]\n"
     ]
    }
   ],
   "source": [
    "#Initialise global variables\n",
    "model = tf.global_variables_initializer()\n",
    "\n",
    "#Start the session\n",
    "with tf.Session() as sess:\n",
    "    sess.run(model)\n",
    "    _, c = sess.run([optimizer, cost], feed_dict={x: x_train, y: y_train})\n",
    "    print(c)\n",
    "    \n",
    "    print(\"Accuracy of the model on the dev set is\", sess.run([accuracy], feed_dict={x:x_dev, y:y_dev}))\n",
    "    print(\"Accuracy of the model on the test set is\", sess.run([accuracy], feed_dict={x:x_test, y:y_test}))\n",
    "    "
   ]
  },
  {
   "cell_type": "markdown",
   "metadata": {
    "collapsed": true
   },
   "source": [
    "Ask for an input of the different input features and then give a probability that they will exit"
   ]
  },
  {
   "cell_type": "code",
   "execution_count": 32,
   "metadata": {},
   "outputs": [
    {
     "data": {
      "text/plain": [
       "'Age'"
      ]
     },
     "execution_count": 32,
     "metadata": {},
     "output_type": "execute_result"
    }
   ],
   "source": [
    "input_features.columns[1]"
   ]
  },
  {
   "cell_type": "code",
   "execution_count": 21,
   "metadata": {},
   "outputs": [
    {
     "name": "stdout",
     "output_type": "stream",
     "text": [
      "CreditScore345\n",
      "Age23\n",
      "Tenure23\n",
      "Balance234\n",
      "NumOfProducts1\n",
      "HasCrCard1\n",
      "IsActiveMember1\n",
      "EstimatedSalary2345\n"
     ]
    }
   ],
   "source": [
    "x_new_data = {}\n",
    "for i in range (len(input_features.columns)):\n",
    "    inputs = input(input_features.columns[i])\n",
    "    x_new_data[input_features.columns[i]] = int(inputs)\n",
    "\n"
   ]
  },
  {
   "cell_type": "code",
   "execution_count": 22,
   "metadata": {},
   "outputs": [
    {
     "name": "stdout",
     "output_type": "stream",
     "text": [
      "(1, 8)\n",
      "   Age  Balance  CreditScore  EstimatedSalary  HasCrCard  IsActiveMember  \\\n",
      "0   23      234          345             2345          1               1   \n",
      "\n",
      "   NumOfProducts  Tenure  \n",
      "0              1      23  \n"
     ]
    }
   ],
   "source": [
    "x_new_data = pd.DataFrame(x_new_data, index = [0])\n",
    "print(np.shape(x_new_data))\n",
    "print(x_new_data)\n",
    "\n",
    "\n"
   ]
  },
  {
   "cell_type": "code",
   "execution_count": 23,
   "metadata": {},
   "outputs": [
    {
     "name": "stdout",
     "output_type": "stream",
     "text": [
      "[array([[ 59.17082596]], dtype=float32)]\n"
     ]
    }
   ],
   "source": [
    "with tf.Session() as sess:\n",
    "    sess.run(model)\n",
    "    print(sess.run([preds], feed_dict = {x: x_new_data}))\n"
   ]
  },
  {
   "cell_type": "code",
   "execution_count": null,
   "metadata": {
    "collapsed": true
   },
   "outputs": [],
   "source": []
  },
  {
   "cell_type": "code",
   "execution_count": null,
   "metadata": {
    "collapsed": true
   },
   "outputs": [],
   "source": []
  }
 ],
 "metadata": {
  "kernelspec": {
   "display_name": "Python 3",
   "language": "python",
   "name": "python3"
  },
  "language_info": {
   "codemirror_mode": {
    "name": "ipython",
    "version": 3
   },
   "file_extension": ".py",
   "mimetype": "text/x-python",
   "name": "python",
   "nbconvert_exporter": "python",
   "pygments_lexer": "ipython3",
   "version": "3.6.3"
  }
 },
 "nbformat": 4,
 "nbformat_minor": 2
}
